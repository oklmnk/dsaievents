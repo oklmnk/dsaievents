{
 "cells": [
  {
   "cell_type": "markdown",
   "metadata": {},
   "source": [
    "# API Data Schema\n",
    "Geoff Pidcock | 20190526\n",
    "\n",
    "## Scope\n",
    "Use the Python Requests library to extract information about event listings, and determine an appropriate schema.\n",
    "\n",
    "### TODO\n",
    "- Pull sample dataset from Eventbrite, and double check schema"
   ]
  },
  {
   "cell_type": "code",
   "execution_count": 1,
   "metadata": {},
   "outputs": [],
   "source": [
    "# See environment.yml for setup instructions\n",
    "import sys\n",
    "import os\n",
    "import pandas as pd\n",
    "import json\n",
    "import requests"
   ]
  },
  {
   "cell_type": "code",
   "execution_count": 2,
   "metadata": {},
   "outputs": [
    {
     "name": "stdout",
     "output_type": "stream",
     "text": [
      "C:\\Users\\Geoff Pidcock\\Anaconda_Projects\\Other Projects\\events-aggregator\\dsaievents\\assets\\notebooks\n",
      "C:\\Users\\Geoff Pidcock\\Anaconda_Projects\\Other Projects\\events-aggregator\n"
     ]
    }
   ],
   "source": [
    "# Get API keys from the following places:\n",
    "## Eventbrite: https://www.eventbrite.com.au/account-settings/apps\n",
    "## Meetup: https://secure.meetup.com/meetup_api/key/\n",
    "# This has been stored in a creds python file above the parent directory\n",
    "print(os.getcwd())\n",
    "os.chdir('..//..//..//')\n",
    "print(os.getcwd())"
   ]
  },
  {
   "cell_type": "code",
   "execution_count": 3,
   "metadata": {},
   "outputs": [],
   "source": [
    "from creds import meetup_api_key, eventbrite_api_key_public"
   ]
  },
  {
   "cell_type": "markdown",
   "metadata": {},
   "source": [
    "## Pull Data from Meetup API\n",
    "[Docs](https://www.meetup.com/meetup_api/docs/)"
   ]
  },
  {
   "cell_type": "code",
   "execution_count": 4,
   "metadata": {},
   "outputs": [
    {
     "data": {
      "text/plain": [
       "76"
      ]
     },
     "execution_count": 4,
     "metadata": {},
     "output_type": "execute_result"
    }
   ],
   "source": [
    "# https://www.meetup.com/meetup_api/docs/find/upcoming_events/\n",
    "# Todo - look into topic categories for smarter filtering - https://www.meetup.com/meetup_api/docs/find/topic_categories/\n",
    "payload = dict(\n",
    "    text = 'Data',\n",
    "    lat = '-33.87',\n",
    "    lon = '151.21',\n",
    "    radius = '100',\n",
    "    page = '100',\n",
    "    order = 'time',\n",
    "    fields = 'featured_photo,key_photo,key_photo,meta_category,group_category',\n",
    "    key = meetup_api_key\n",
    ")\n",
    "attempt = requests.get(\"https://api.meetup.com/find/upcoming_events\",params=payload)\n",
    "data = attempt.json()\n",
    "len(data['events'])"
   ]
  },
  {
   "cell_type": "code",
   "execution_count": 5,
   "metadata": {},
   "outputs": [
    {
     "data": {
      "text/plain": [
       "{'id': 1000653,\n",
       " 'city': 'Sydney',\n",
       " 'lat': -33.87,\n",
       " 'lon': 151.21,\n",
       " 'state': '',\n",
       " 'country': 'au',\n",
       " 'zip': 'meetup1',\n",
       " 'member_count': 21737}"
      ]
     },
     "execution_count": 5,
     "metadata": {},
     "output_type": "execute_result"
    }
   ],
   "source": [
    "data['city']"
   ]
  },
  {
   "cell_type": "code",
   "execution_count": 6,
   "metadata": {},
   "outputs": [
    {
     "name": "stdout",
     "output_type": "stream",
     "text": [
      "index: 0 | name: SYDNEY: Infrastructure, Data and Application Migration Meetup\n",
      "index: 1 | name: Deep Learning Sydney: TensorFlow 2.0\n",
      "index: 2 | name: Automation User Group Summit - deep dive into Machine Vision capabilities\n",
      "index: 3 | name: CSR & The Modern Slavery Act in Australia and NSW\n",
      "index: 4 | name: DSS-2019-05:  CHLOE WARNER and AMAN ARORA\n",
      "index: 5 | name: Devops: What's to manage? Google AppEngine Standard will give you a lot!\n",
      "index: 6 | name: Kubernetes Meetup - 28 May (Tues)\n",
      "index: 7 | name: Data Showdown 2019\n",
      "index: 8 | name: Data Showdown 2019\n",
      "index: 9 | name: Idea to Reality: a session with InfoTrack\n",
      "index: 10 | name: MEH? A special meeting focusing on Mechanical, Electrical & Hydrualic data\n",
      "index: 11 | name: Boost Your Income With Property: Discount buying, Capital Growth & Cash Flow\n",
      "index: 12 | name: Citrix NetXperts May 2019\n",
      "index: 13 | name: DDD by Night - May 2019\n",
      "index: 14 | name: NIB Presents - Business Intelligence\n",
      "index: 15 | name: Sydney Meetup!\n",
      "index: 16 | name: Azure LNS May 2019: All you need to know about Azure WAN and Firewall Services\n",
      "index: 17 | name: Privacy Preserving Encryption with Julia\n",
      "index: 18 | name: GeoRabble Sydney - More than Spatial...\n",
      "index: 19 | name: May Edition, Sydney Serverless\n",
      "index: 20 | name: Firelight Sessions: The Art Of Storytelling\n",
      "index: 21 | name: Hands on Data Science - Fourth Meeting, and Pipelines for Machine Learning!\n",
      "index: 22 | name: Live AI workshop: step by step to machine learning\n",
      "index: 23 | name: Advanced-level volleyball\n",
      "index: 24 | name: Responsible Runners Coogee - Pulse up, waste down for a clean beach\n",
      "index: 25 | name: Using Power BI to Create Dashboards with Chandoo\n",
      "index: 26 | name: (FREE LIVE EVENT & EBOOK) How To Find Discounted Properties Using Group Buying\n",
      "index: 27 | name: Kaggle Data Science Community \n",
      "index: 28 | name: PPC Event - Head of Digital Marketing @ Finder, Founder Triggr AI, Ex Googler.\n",
      "index: 29 | name: Build an Open Data API using Flask-RESTPlus\n",
      "index: 30 | name: Lifting the lid on GCP + Open Source vs Managed\n",
      "index: 31 | name: ANZ Workshop Tour - Sydney\n",
      "index: 32 | name: PyData Sydney June - Data Science & Analytics using Python, R, Julia + more \n",
      "index: 33 | name: Large Scale IoT Solution rollouts | #DisruptorsInTech Sydney\n",
      "index: 34 | name: What You Need to Know about Omni-channel Marketing\n",
      "index: 35 | name: June: Detecting Online Credit Card Fraud with Apache Kafka Streams\n",
      "index: 36 | name: Got an Idea? We’ll help you convert it into a startup\n",
      "index: 37 | name: Time Series: A Conference Honouring Prof William Dunsmuir\n",
      "index: 38 | name: Digital Village Meetup (Networking)\n",
      "index: 39 | name: Know Yourself. Know life\n",
      "index: 40 | name: Defending Sexual Assault Charges\n",
      "index: 41 | name: \"To be announced\"\n",
      "index: 42 | name: Strong Engineering Culture, Strong Product Culture\n",
      "index: 43 | name: SSA NSW Branch: Special Public Lecture by Dr Joanna Wang & Dr Suzanne Poynton\n",
      "index: 44 | name: Live AI Workshop: overcome machine learning data bottleneck\n",
      "index: 45 | name: Digital Engagement Research&How UX Design Helps Users Understand Data by Sitback\n",
      "index: 46 | name: Sydney Power BI Meetup - June 2019\n",
      "index: 47 | name: [DBD] Query Tuning Internals for the Advanced SQL Developer\n",
      "index: 48 | name: Meet up with your analytics peers and chat\n",
      "index: 49 | name: June edition, Sydney Data Engineering meetup\n",
      "index: 50 | name: How to create high performing Leaders & Managers - Session for HR & C-Suite\n",
      "index: 51 | name: LoRa & The Things Network (TTN) Workshop\n",
      "index: 52 | name: GA & Data Science Breakfast Meetup presents: The Rise of Automation\n",
      "index: 53 | name: SCP: Facebook Hacker Cup Special\n",
      "index: 54 | name: Algorithms, Graphs and Awesome Procedures\n",
      "index: 55 | name: Alteryx User Group Sydney\n",
      "index: 56 | name: Docker Meetup - RSVP\n",
      "index: 57 | name: Newy DevOps & Cloud (Infracoders) June 2019 Meetup\n",
      "index: 58 | name: OpenMined Sydney - Starter Session\n",
      "index: 59 | name: Content Marketing Deepdive: Connect and Convert\n",
      "index: 60 | name: Why The Gender Pay Gap in Tech Gets Worse Not Better\n",
      "index: 61 | name: June Sydney HashiCorp Session\n",
      "index: 62 | name: Masterclass - How machine learning works for Big Data: tips, tricks and cases - \n",
      "index: 63 | name: June DevOps Meetup\n",
      "index: 64 | name: data.JUN <- (Flood Models to AI in Health, Andrew Goodwin)\n",
      "index: 65 | name: What’s your listening blind spot?\n",
      "index: 66 | name: Testing with Cypress Workshop\n",
      "index: 67 | name: Cybersecurity Summit Sydney \n",
      "index: 68 | name: Testing in DevOps, Q&A with Katrina Clokie hosted by Woolworths\n",
      "index: 69 | name: Civita pre-hack -- #HacktforEducation\n",
      "index: 70 | name: Managing Video as an Information Resource\n",
      "index: 71 | name: How to create the perfect recommendation? - Data analytics series, Sydney\n",
      "index: 72 | name:  Workshop: Semiparametric regression with R - CPD99\n",
      "index: 73 | name: #BeerOps Syd Mid-Year Celeb 2019 – 2 July (Tues)\n",
      "index: 74 | name: Kaggle Data Science Community \n",
      "index: 75 | name: PyData Sydney - Data Science & Analytics using Python, R, Julia + more \n"
     ]
    }
   ],
   "source": [
    "i = 0\n",
    "for event in data['events']:\n",
    "    print(\"index: {} | name: {}\".format(i,event['name']))\n",
    "    i += 1"
   ]
  },
  {
   "cell_type": "code",
   "execution_count": 7,
   "metadata": {},
   "outputs": [
    {
     "data": {
      "text/plain": [
       "{'created': 1557108060000,\n",
       " 'duration': 7200000,\n",
       " 'id': '261218488',\n",
       " 'name': 'GA & Data Science Breakfast Meetup presents: The Rise of Automation',\n",
       " 'date_in_series_pattern': False,\n",
       " 'status': 'upcoming',\n",
       " 'time': 1560461400000,\n",
       " 'local_date': '2019-06-14',\n",
       " 'local_time': '07:30',\n",
       " 'updated': 1558491903000,\n",
       " 'utc_offset': 36000000,\n",
       " 'waitlist_count': 0,\n",
       " 'yes_rsvp_count': 50,\n",
       " 'venue': {'id': 25766889,\n",
       "  'name': 'GA Sydney (Main Campus)',\n",
       "  'lat': -33.87125015258789,\n",
       "  'lon': 151.20460510253906,\n",
       "  'repinned': True,\n",
       "  'address_1': 'The Podium Building, 1 Market St ',\n",
       "  'city': 'Sydney',\n",
       "  'country': 'au',\n",
       "  'localized_country_name': 'Australia'},\n",
       " 'group': {'created': 1442371845000,\n",
       "  'name': 'Data Science Breakfast Meetup',\n",
       "  'id': 18936372,\n",
       "  'join_mode': 'open',\n",
       "  'lat': -33.869998931884766,\n",
       "  'lon': 151.2100067138672,\n",
       "  'urlname': 'The-Sydney-Data-Science-Breakfast-Meetup-Group',\n",
       "  'who': 'Eat Data For Breakfasters',\n",
       "  'localized_location': 'Sydney, Australia',\n",
       "  'state': '',\n",
       "  'country': 'au',\n",
       "  'region': 'en_US',\n",
       "  'timezone': 'Australia/Sydney',\n",
       "  'category': {'id': 34,\n",
       "   'name': 'Tech',\n",
       "   'shortname': 'tech',\n",
       "   'sort_name': 'Tech'}},\n",
       " 'link': 'https://www.meetup.com/The-Sydney-Data-Science-Breakfast-Meetup-Group/events/261218488/',\n",
       " 'description': '<p>Note: this is a partnered event with General Assembly. Please make sure to register using the General Assembly event page, linked here: <a href=\"https://ga.co/2PPoZWd\" class=\"linkified\">https://ga.co/2PPoZWd</a></p> <p>****<br/>Abstract:<br/>There has been a lot of attention in the media surrounding the rise of automation. As advanced technologies such as robotic process automation, machine learning, and artificial intelligence have matured, companies have found practical applications to these new technologies.</p> <p>As part of this evolution, Intelligent Automation has become a topic of interest for business leaders across industries looking to combine cognitive capabilities with robotic process technologies to create a \"living\" system that can go beyond mundane and repeatable tasks. This is extremely advantageous to any organization that can implement these systems seamlessly but there is still a delta between the ideation of AI integration. and the ability to put these plans into effect. This delta can instill fear and anxiety around using AI as well as the added question of the ethical implications of AI such as Facial Recognition and targeted advertising.</p> <p>Join General Assembly and the Data Science Breakfast Meetup as we present a panel of experts at the forefront of AI incorporation for an engaging conversation that will touch on.</p> <p>*****<br/>Agenda:<br/>07:30 - arrival and networking<br/>07:50 - panel kick off<br/>08:30 - panel Q&amp;A<br/>09:00 - more networking (and anyone who needs to head off can leave)<br/>09:30 - close</p> <p>*****<br/>Speaker BIO\\'s:</p> <p>Anthony Tockar (Moderator):<br/>Anthony Tockar is director and cofounder at Verge Labs, a new type of AI company focused on the applied side of machine learning. A jack-of-all-trades, he has worked on problems across insurance, technology, telecommunications, loyalty, sports betting and even neuroscience. He qualified as an actuary, then moved into data science, completing an MS in Analytics at the prestigious Northwestern University.</p> <p>After hitting the headlines with his posts on data privacy at Neustar, he returned to Sydney to practice as a data scientist and cofounded the Minerva Collective, a not-for-profit focused on using data for social good, as well as multiple meetup groups. His key missions are to extend the reach and impact of data science to help people, and to assist Australian businesses to become more data driven.</p> <p>Sam Zheng (Panelist):<br/>Sam is Co-founder/CEO of Curious Thing - a voice-based AI interviewer for talent acquisition startup. Sam is a tech entrepreneur, self-taught engineer, and qualified actuary. Before Curious Thing, Sam was Co-founder/CTO of Hyper Anna, an AI for business analytics startup.</p> <p>Dima Galat (Panelist):<br/>Dima learned to program in Assembly on an i486, back when disk sizes were measured in megabytes. He always saw programming as a tool for facilitating communication between disparate data sources and end users.</p> <p>After his first encounter with data mining a decade ago, he became obsessed with applied machine learning, which supercharges this communication process. He has a background in computer vision productisation, data engineering, and a variety of analytics projects for clients ranging from financial institutions to United Nations.</p> <p>Usman Shahbaz (panelist):<br/>Usman is an experienced leader with more than 14 years of rich experience in applying product, network, risk-assurance and consumer analytics to drive actionable business outcomes. His core specialties include Advanced Analytics, Machine &amp; Deep Learning, Statistical Modelling and Optimisation. Usman is currently enrolled for a PhD in Machine Learning. He also holds an MBA and a Bachelor’s degree in Electrical Engineering.</p> <p>Passiona Cottee (panelist):<br/>Data Scientist, Commonwealth Bank, Co-lecturer at UTS</p> ',\n",
       " 'visibility': 'public',\n",
       " 'featured_photo': {'id': 481070789,\n",
       "  'highres_link': 'https://secure.meetupstatic.com/photos/event/c/6/6/5/highres_481070789.jpeg',\n",
       "  'photo_link': 'https://secure.meetupstatic.com/photos/event/c/6/6/5/600_481070789.jpeg',\n",
       "  'thumb_link': 'https://secure.meetupstatic.com/photos/event/c/6/6/5/thumb_481070789.jpeg',\n",
       "  'type': 'event',\n",
       "  'base_url': 'https://secure.meetupstatic.com'}}"
      ]
     },
     "execution_count": 7,
     "metadata": {},
     "output_type": "execute_result"
    }
   ],
   "source": [
    "data['events'][52]\n",
    "# 48, 52"
   ]
  },
  {
   "cell_type": "markdown",
   "metadata": {},
   "source": [
    "## Meetup Findings\n",
    "- Not sure if list is comprehensive - might make sense to assemble a list of data related groups, and then iterate through each \n",
    "- Will need to process datetimes from epoc to calendar before writing to database"
   ]
  },
  {
   "cell_type": "code",
   "execution_count": 8,
   "metadata": {},
   "outputs": [],
   "source": [
    "# DB Schema - Postgres 9.3+\n",
    "sql = \"\"\"\n",
    "CREATE TABLE IF NOT EXISTS raw_events(\n",
    "    event_id SERIAL PRIMARY KEY,\n",
    "    source_platform_id CHAR VARYING(20)\n",
    "    source_platform CHAR VARYING(50),\n",
    "    event_city CHAR VARYING(50),\n",
    "    event_date_local DATE,\n",
    "    event_time_local TIME,\n",
    "    event_name TEXT,\n",
    "    event_organiser TEXT,\n",
    "    event_location_name TEXT,\n",
    "    event_location_address TEXT,\n",
    "    event_lat NUMERIC(20,16),\n",
    "    event_lon NUMERIC(20,16),\n",
    "    registration_link TEXT,\n",
    "    description TEXT,\n",
    "    event_or_group_photo Text,\n",
    "    event_category CHAR VARYING(100),\n",
    "    event_category CHAR VARYING(100)\n",
    ")\n",
    "\"\"\""
   ]
  },
  {
   "cell_type": "code",
   "execution_count": 9,
   "metadata": {},
   "outputs": [
    {
     "data": {
      "text/plain": [
       "[{'event_id': '1',\n",
       "  'source_platform_id': '261218488',\n",
       "  'source_platform': 'Meetup',\n",
       "  'event_city': 'Sydney',\n",
       "  'event_date': '2019-06-14',\n",
       "  'event_time': '07:30',\n",
       "  'event_name': 'GA & Data Science Breakfast Meetup presents: The Rise of Automation',\n",
       "  'event_organiser': 'Data Science Breakfast Meetup',\n",
       "  'event_location_name': 'GA Sydney (Main Campus)',\n",
       "  'event_location_address': 'The Podium Building, 1 Market St Sydney AU',\n",
       "  'event_lat': '-33.869998931884766',\n",
       "  'event_lon': '151.20460510253906',\n",
       "  'registration_link': 'https://www.meetup.com/The-Sydney-Data-Science-Breakfast-Meetup-Group/events/261218488/',\n",
       "  'description': '<p>Note: this is a partnered event with General Assembly. Please make sure to register using the General Assembly event page, linked here: <a href=\"https://ga.co/2PPoZWd\" class=\"linkified\">https://ga.co/2PPoZWd</a></p> <p>****<br/>Abstract:<br/>There has been a lot of attention in the media surrounding the rise of automation. As advanced technologies such as robotic process automation, machine learning, and artificial intelligence have matured, companies have found practical applications to these new technologies.</p> <p>As part of this evolution, Intelligent Automation has become a topic of interest for business leaders across industries looking to combine cognitive capabilities with robotic process technologies to create a \"living\" system that can go beyond mundane and repeatable tasks. This is extremely advantageous to any organization that can implement these systems seamlessly but there is still a delta between the ideation of AI integration. and the ability to put these plans into effect. This delta can instill fear and anxiety around using AI as well as the added question of the ethical implications of AI such as Facial Recognition and targeted advertising.</p> <p>Join General Assembly and the Data Science Breakfast Meetup as we present a panel of experts at the forefront of AI incorporation for an engaging conversation that will touch on.</p> <p>*****<br/>Agenda:<br/>07:30 - arrival and networking<br/>07:50 - panel kick off<br/>08:30 - panel Q&amp;A<br/>09:00 - more networking (and anyone who needs to head off can leave)<br/>09:30 - close</p> <p>*****<br/>Speaker BIO\\'s:</p> <p>Anthony Tockar (Moderator):<br/>Anthony Tockar is director and cofounder at Verge Labs, a new type of AI company focused on the applied side of machine learning. A jack-of-all-trades, he has worked on problems across insurance, technology, telecommunications, loyalty, sports betting and even neuroscience. He qualified as an actuary, then moved into data science, completing an MS in Analytics at the prestigious Northwestern University.</p> <p>After hitting the headlines with his posts on data privacy at Neustar, he returned to Sydney to practice as a data scientist and cofounded the Minerva Collective, a not-for-profit focused on using data for social good, as well as multiple meetup groups. His key missions are to extend the reach and impact of data science to help people, and to assist Australian businesses to become more data driven.</p> <p>Sam Zheng (Panelist):<br/>Sam is Co-founder/CEO of Curious Thing - a voice-based AI interviewer for talent acquisition startup. Sam is a tech entrepreneur, self-taught engineer, and qualified actuary. Before Curious Thing, Sam was Co-founder/CTO of Hyper Anna, an AI for business analytics startup.</p> <p>Dima Galat (Panelist):<br/>Dima learned to program in Assembly on an i486, back when disk sizes were measured in megabytes. He always saw programming as a tool for facilitating communication between disparate data sources and end users.</p> <p>After his first encounter with data mining a decade ago, he became obsessed with applied machine learning, which supercharges this communication process. He has a background in computer vision productisation, data engineering, and a variety of analytics projects for clients ranging from financial institutions to United Nations.</p> <p>Usman Shahbaz (panelist):<br/>Usman is an experienced leader with more than 14 years of rich experience in applying product, network, risk-assurance and consumer analytics to drive actionable business outcomes. His core specialties include Advanced Analytics, Machine &amp; Deep Learning, Statistical Modelling and Optimisation. Usman is currently enrolled for a PhD in Machine Learning. He also holds an MBA and a Bachelor’s degree in Electrical Engineering.</p> <p>Passiona Cottee (panelist):<br/>Data Scientist, Commonwealth Bank, Co-lecturer at UTS</p> ',\n",
       "  'event_or_group_photo': 'https://secure.meetupstatic.com/photos/event/c/6/6/5/highres_481070789.jpeg',\n",
       "  'event_format': 'panel',\n",
       "  'event_category': 'automation'}]"
      ]
     },
     "execution_count": 9,
     "metadata": {},
     "output_type": "execute_result"
    }
   ],
   "source": [
    "# Response Schema based on Meetup\n",
    "[\n",
    "    {\n",
    "        'event_id': '1',\n",
    "        'source_platform_id': '261218488',\n",
    "        'source_platform': 'Meetup',\n",
    "        'event_city': 'Sydney',\n",
    "        'event_date': '2019-06-14',\n",
    "        'event_time': '07:30',\n",
    "        'event_name': 'GA & Data Science Breakfast Meetup presents: The Rise of Automation',\n",
    "        'event_organiser': 'Data Science Breakfast Meetup',\n",
    "        'event_location_name': 'GA Sydney (Main Campus)',\n",
    "        'event_location_address': 'The Podium Building, 1 Market St Sydney AU',\n",
    "        'event_lat': '-33.869998931884766',\n",
    "        'event_lon': '151.20460510253906',\n",
    "        'registration_link': 'https://www.meetup.com/The-Sydney-Data-Science-Breakfast-Meetup-Group/events/261218488/',\n",
    "        'description': '<p>Note: this is a partnered event with General Assembly. Please make sure to register using the General Assembly event page, linked here: <a href=\"https://ga.co/2PPoZWd\" class=\"linkified\">https://ga.co/2PPoZWd</a></p> <p>****<br/>Abstract:<br/>There has been a lot of attention in the media surrounding the rise of automation. As advanced technologies such as robotic process automation, machine learning, and artificial intelligence have matured, companies have found practical applications to these new technologies.</p> <p>As part of this evolution, Intelligent Automation has become a topic of interest for business leaders across industries looking to combine cognitive capabilities with robotic process technologies to create a \"living\" system that can go beyond mundane and repeatable tasks. This is extremely advantageous to any organization that can implement these systems seamlessly but there is still a delta between the ideation of AI integration. and the ability to put these plans into effect. This delta can instill fear and anxiety around using AI as well as the added question of the ethical implications of AI such as Facial Recognition and targeted advertising.</p> <p>Join General Assembly and the Data Science Breakfast Meetup as we present a panel of experts at the forefront of AI incorporation for an engaging conversation that will touch on.</p> <p>*****<br/>Agenda:<br/>07:30 - arrival and networking<br/>07:50 - panel kick off<br/>08:30 - panel Q&amp;A<br/>09:00 - more networking (and anyone who needs to head off can leave)<br/>09:30 - close</p> <p>*****<br/>Speaker BIO\\'s:</p> <p>Anthony Tockar (Moderator):<br/>Anthony Tockar is director and cofounder at Verge Labs, a new type of AI company focused on the applied side of machine learning. A jack-of-all-trades, he has worked on problems across insurance, technology, telecommunications, loyalty, sports betting and even neuroscience. He qualified as an actuary, then moved into data science, completing an MS in Analytics at the prestigious Northwestern University.</p> <p>After hitting the headlines with his posts on data privacy at Neustar, he returned to Sydney to practice as a data scientist and cofounded the Minerva Collective, a not-for-profit focused on using data for social good, as well as multiple meetup groups. His key missions are to extend the reach and impact of data science to help people, and to assist Australian businesses to become more data driven.</p> <p>Sam Zheng (Panelist):<br/>Sam is Co-founder/CEO of Curious Thing - a voice-based AI interviewer for talent acquisition startup. Sam is a tech entrepreneur, self-taught engineer, and qualified actuary. Before Curious Thing, Sam was Co-founder/CTO of Hyper Anna, an AI for business analytics startup.</p> <p>Dima Galat (Panelist):<br/>Dima learned to program in Assembly on an i486, back when disk sizes were measured in megabytes. He always saw programming as a tool for facilitating communication between disparate data sources and end users.</p> <p>After his first encounter with data mining a decade ago, he became obsessed with applied machine learning, which supercharges this communication process. He has a background in computer vision productisation, data engineering, and a variety of analytics projects for clients ranging from financial institutions to United Nations.</p> <p>Usman Shahbaz (panelist):<br/>Usman is an experienced leader with more than 14 years of rich experience in applying product, network, risk-assurance and consumer analytics to drive actionable business outcomes. His core specialties include Advanced Analytics, Machine &amp; Deep Learning, Statistical Modelling and Optimisation. Usman is currently enrolled for a PhD in Machine Learning. He also holds an MBA and a Bachelor’s degree in Electrical Engineering.</p> <p>Passiona Cottee (panelist):<br/>Data Scientist, Commonwealth Bank, Co-lecturer at UTS</p> ',\n",
    "        'event_or_group_photo': 'https://secure.meetupstatic.com/photos/event/c/6/6/5/highres_481070789.jpeg',\n",
    "        'event_format': 'panel',\n",
    "        'event_category': 'automation'       \n",
    "    }\n",
    "]"
   ]
  },
  {
   "cell_type": "markdown",
   "metadata": {},
   "source": [
    "## Pull Data from Eventbrite\n",
    "TBC"
   ]
  }
 ],
 "metadata": {
  "kernelspec": {
   "display_name": "Python [conda env:eventscraper] *",
   "language": "python",
   "name": "conda-env-eventscraper-py"
  },
  "language_info": {
   "codemirror_mode": {
    "name": "ipython",
    "version": 3
   },
   "file_extension": ".py",
   "mimetype": "text/x-python",
   "name": "python",
   "nbconvert_exporter": "python",
   "pygments_lexer": "ipython3",
   "version": "3.7.3"
  }
 },
 "nbformat": 4,
 "nbformat_minor": 2
}
